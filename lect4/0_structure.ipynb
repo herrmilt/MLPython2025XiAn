{
 "cells": [
  {
   "cell_type": "markdown",
   "metadata": {},
   "source": [
    "# Practice Lecture 3\n",
    "- Fast Quiz\n",
    "- [Training a network exercises](train_net_exercise.ipynb)\n",
    "\n",
    "# Lecture 4. Computer vision applications\n",
    "- [Keypoint detection](keypoints.ipynb)\n",
    "- [Object detection](obj_detect.ipynb)\n",
    "- Generative models\n",
    "    - [Autoencoders](https://www.kaggle.com/code/herrmilt/mnist-autoencoder/)\n",
    "    - [VAE](https://www.kaggle.com/code/herrmilt/mnist-vae)\n",
    "- [GANs](https://www.kaggle.com/code/herrmilt/anime-gan)"
   ]
  },
  {
   "cell_type": "markdown",
   "metadata": {},
   "source": []
  }
 ],
 "metadata": {
  "language_info": {
   "name": "python"
  }
 },
 "nbformat": 4,
 "nbformat_minor": 2
}
