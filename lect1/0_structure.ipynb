{
 "cells": [
  {
   "cell_type": "markdown",
   "metadata": {},
   "source": [
    "# Lecture 1. Introduction to Python for Machine Learning\n",
    "\n",
    "- Course Introduction\n",
    "    - Ideas, objectives. **PPT**\n",
    "    - Kaggle\n",
    "    - Evaluation\n",
    "- Python Fundamentals\n",
    "    - [General Python introduction](python_language.ipynb)\n",
    "    - [Sequences](sequence_types.ipynb)\n",
    "    - [Dictionaries and sets](dicts_and_sets.ipynb)\n",
    "    - [Functions](functions.ipynb)\n",
    "    - [Comprehensions](comprehensions.ipynb)\n",
    "    - [Iterators and generators](iterators.ipynb)\n",
    "    - [Functional programming basics](funct_program.ipynb)\n",
    "    - [Object-oriented programming concepts](intro_oop.ipynb)"
   ]
  },
  {
   "cell_type": "markdown",
   "metadata": {},
   "source": []
  }
 ],
 "metadata": {
  "kernelspec": {
   "display_name": "torch_teach",
   "language": "python",
   "name": "python3"
  },
  "language_info": {
   "name": "python",
   "version": "3.10.14"
  }
 },
 "nbformat": 4,
 "nbformat_minor": 2
}
