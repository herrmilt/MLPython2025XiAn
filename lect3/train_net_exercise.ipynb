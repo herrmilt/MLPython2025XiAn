{
 "cells": [
  {
   "cell_type": "markdown",
   "id": "4527639b",
   "metadata": {},
   "source": [
    "1. What type of model is this?"
   ]
  },
  {
   "cell_type": "code",
   "execution_count": null,
   "id": "7650efc9",
   "metadata": {},
   "outputs": [],
   "source": [
    "class LinearRegression(nn.Module):\n",
    "    def __init__(self):\n",
    "        super(LinearRegression, self).__init__()\n",
    "        self.linear = nn.Linear(in_features=1, out_features=1)  \n",
    "\n",
    "    def forward(self, x):\n",
    "        return self.linear(x)"
   ]
  },
  {
   "cell_type": "markdown",
   "id": "4d415e35",
   "metadata": {},
   "source": [
    "2. Explain this piece of code. What the result of criterion?"
   ]
  },
  {
   "cell_type": "code",
   "execution_count": null,
   "id": "0114f6f3",
   "metadata": {},
   "outputs": [],
   "source": [
    "model = LinearRegression()\n",
    "criterion = nn.MSELoss()\n",
    "\n",
    "outputs = model(train_X)\n",
    "criterion(outputs, train_y)"
   ]
  },
  {
   "cell_type": "markdown",
   "id": "881363ad",
   "metadata": {},
   "source": [
    "3. Explain this code. What is loss.backward() doing?"
   ]
  },
  {
   "cell_type": "code",
   "execution_count": null,
   "id": "8c351698",
   "metadata": {},
   "outputs": [],
   "source": [
    "optimizer = optim.SGD(model.parameters(), lr=0.01)\n",
    "\n",
    "outputs = model(train_X)\n",
    "loss = criterion(outputs, train_y)\n",
    "optimizer.zero_grad()\n",
    "loss.backward()"
   ]
  },
  {
   "cell_type": "markdown",
   "id": "a2651821",
   "metadata": {},
   "source": [
    "4. Explain each the general algorithm behind these steps"
   ]
  },
  {
   "cell_type": "code",
   "execution_count": null,
   "id": "b5d34f1d",
   "metadata": {},
   "outputs": [],
   "source": [
    "model.train()\n",
    "for epoch in range(EPOCHS):\n",
    "    # Forward pass\n",
    "    outputs = model(train_X)\n",
    "    loss = criterion(outputs, train_y)\n",
    "\n",
    "    # Backward pass\n",
    "    optimizer.zero_grad()\n",
    "    loss.backward()\n",
    "\n",
    "    # Optimization step\n",
    "    optimizer.step()"
   ]
  },
  {
   "cell_type": "markdown",
   "id": "fa22883a",
   "metadata": {},
   "source": [
    "5. What is a MinMaxScaler? What is it used for?"
   ]
  },
  {
   "cell_type": "code",
   "execution_count": null,
   "id": "3e925c3e",
   "metadata": {},
   "outputs": [],
   "source": [
    "from sklearn.preprocessing import MinMaxScaler\n",
    "\n",
    "scaler_X = MinMaxScaler(feature_range=(0, 1))  # Scale input X\n",
    "scaler_y = MinMaxScaler(feature_range=(0, 1))  # Scale target y\n",
    "\n",
    "scaler_X.fit(train_X)\n",
    "scaler_y.fit(train_y)"
   ]
  },
  {
   "cell_type": "markdown",
   "id": "0c024477",
   "metadata": {},
   "source": [
    "6. What is this code doing? What is train_X, train_y, test_X, and test_y"
   ]
  },
  {
   "cell_type": "code",
   "execution_count": null,
   "id": "307c5822",
   "metadata": {},
   "outputs": [],
   "source": [
    "from sklearn.model_selection import train_test_split\n",
    "train_X,test_X,train_y,test_y=train_test_split(X,y,test_size=0.2,shuffle=True)\n",
    "train_X.shape, test_X.shape, train_y.shape, test_y.shape"
   ]
  },
  {
   "cell_type": "markdown",
   "id": "f95ceb0e",
   "metadata": {},
   "source": [
    "7. What type of model is this?"
   ]
  },
  {
   "cell_type": "code",
   "execution_count": null,
   "id": "3d244be1",
   "metadata": {},
   "outputs": [],
   "source": [
    "class NonlinearRegression(nn.Module):\n",
    "    def __init__(self):\n",
    "        super(NonlinearRegression, self).__init__()\n",
    "        self.model = nn.Sequential(\n",
    "            nn.Linear(in_features=1, out_features=100),  # First layer\n",
    "            nn.ReLU(),                                  # Non-linear activation\n",
    "            nn.Linear(in_features=100, out_features=200),\n",
    "            nn.ReLU(),\n",
    "            nn.Linear(in_features=200, out_features=1),# Output layer\n",
    "        )\n",
    "\n",
    "    def forward(self, x):\n",
    "        return self.model(x)"
   ]
  },
  {
   "cell_type": "markdown",
   "id": "2ca7bdcb",
   "metadata": {},
   "source": [
    "8. In this model, how many features are used to describe the object.\n",
    "- If it is for a classification model, how many classes are in the problem?"
   ]
  },
  {
   "cell_type": "code",
   "execution_count": null,
   "id": "67b9cdc9",
   "metadata": {},
   "outputs": [],
   "source": [
    "\n",
    "\n",
    "class NonlinearClassifier(nn.Module):\n",
    "    def __init__(self):\n",
    "        super(NonlinearClassifier, self).__init__()\n",
    "        self.model = nn.Sequential(\n",
    "            nn.Linear(in_features=12, out_features=10),  # First layer\n",
    "            nn.ReLU(),                                  # Non-linear activation\n",
    "            nn.Linear(in_features=10, out_features=20),\n",
    "            nn.ReLU(),\n",
    "            nn.Linear(in_features=20, out_features=5),# Output layer\n",
    "        )\n",
    "\n",
    "    def forward(self, x):\n",
    "        return self.model(x)\n",
    "\n"
   ]
  },
  {
   "cell_type": "markdown",
   "id": "d2e8be54",
   "metadata": {},
   "source": [
    "9. What is this code line used for?"
   ]
  },
  {
   "cell_type": "code",
   "execution_count": null,
   "id": "e7641c88",
   "metadata": {},
   "outputs": [],
   "source": [
    "nn.Softmax(dim=1)(output)"
   ]
  },
  {
   "cell_type": "markdown",
   "id": "1688c53a",
   "metadata": {},
   "source": [
    "10. What is CrossEntropyLoss used for?"
   ]
  },
  {
   "cell_type": "code",
   "execution_count": null,
   "id": "625f71b7",
   "metadata": {},
   "outputs": [],
   "source": [
    "criterion = nn.CrossEntropyLoss()\n",
    "criterion(output, train_y)"
   ]
  },
  {
   "cell_type": "markdown",
   "id": "25712bd9",
   "metadata": {},
   "source": [
    "11. This is the ouput of the method that train a network. Can you detect any problem in the training execution?"
   ]
  },
  {
   "cell_type": "raw",
   "id": "f5b9e613",
   "metadata": {
    "vscode": {
     "languageId": "raw"
    }
   },
   "source": [
    "Epoch 1, TrainLoss: 0.6967, TestLoss: 0.6809, Acc: 0.4375, TestAcc: 0.6667\n",
    "Epoch 2, TrainLoss: 0.6875, TestLoss: 0.6618, Acc: 0.5625, TestAcc: 0.6667\n",
    "Epoch 3, TrainLoss: 0.6818, TestLoss: 0.6473, Acc: 0.5625, TestAcc: 0.6667\n",
    "Epoch 4, TrainLoss: 0.6796, TestLoss: 0.6373, Acc: 0.5625, TestAcc: 0.6667\n",
    "Epoch 5, TrainLoss: 0.6797, TestLoss: 0.6312, Acc: 0.5625, TestAcc: 0.6667\n",
    "Epoch 6, TrainLoss: 0.6797, TestLoss: 0.6276, Acc: 0.5625, TestAcc: 0.6667\n",
    "Epoch 7, TrainLoss: 0.6785, TestLoss: 0.6259, Acc: 0.5625, TestAcc: 0.6667\n",
    "Epoch 8, TrainLoss: 0.6760, TestLoss: 0.6255, Acc: 0.5625, TestAcc: 0.6667\n",
    "Epoch 9, TrainLoss: 0.6731, TestLoss: 0.6262, Acc: 0.5625, TestAcc: 0.6667\n",
    "Epoch 10, TrainLoss: 0.6708, TestLoss: 0.6274, Acc: 0.5625, TestAcc: 0.6667\n",
    "Epoch 100, TrainLoss: 0.3507, TestLoss: 0.6882, Acc: 0.8625, TestAcc: 0.6667\n",
    "Epoch 200, TrainLoss: 0.2155, TestLoss: 1.1722, Acc: 0.9500, TestAcc: 0.6667\n",
    "Epoch 300, TrainLoss: 0.1250, TestLoss: 1.6677, Acc: 0.9750, TestAcc: 0.6667\n",
    "Epoch 400, TrainLoss: 0.0894, TestLoss: 2.1272, Acc: 0.9875, TestAcc: 0.7143\n",
    "Epoch 500, TrainLoss: 0.0462, TestLoss: 2.6506, Acc: 0.9875, TestAcc: 0.7619\n",
    "Epoch 600, TrainLoss: 0.0324, TestLoss: 2.9580, Acc: 1.0000, TestAcc: 0.7143\n",
    "Epoch 700, TrainLoss: 0.0212, TestLoss: 3.1093, Acc: 1.0000, TestAcc: 0.7143\n",
    "Epoch 800, TrainLoss: 0.0164, TestLoss: 3.2614, Acc: 1.0000, TestAcc: 0.7143"
   ]
  }
 ],
 "metadata": {
  "kernelspec": {
   "display_name": "torch_teach",
   "language": "python",
   "name": "python3"
  },
  "language_info": {
   "codemirror_mode": {
    "name": "ipython",
    "version": 3
   },
   "file_extension": ".py",
   "mimetype": "text/x-python",
   "name": "python",
   "nbconvert_exporter": "python",
   "pygments_lexer": "ipython3",
   "version": "3.10.14"
  }
 },
 "nbformat": 4,
 "nbformat_minor": 5
}
