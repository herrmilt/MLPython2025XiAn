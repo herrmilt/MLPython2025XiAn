{
 "cells": [
  {
   "cell_type": "markdown",
   "metadata": {},
   "source": [
    "# Practice Lecture 3\n",
    "- [Fast Quiz](fast_quiz.txt)\n",
    "- [Training a network exercises](train_net_exercise.ipynb)\n",
    "\n",
    "# Lecture 4. Computer vision applications\n",
    "- [Keypoint detection manually](keypoints.ipynb)\n",
    "- [Real life keypoint detection using YOLO](https://www.kaggle.com/code/tommy011/facial-yolov8-pose-estimation)\n",
    "- [Object detection manually](obj_detect.ipynb)\n",
    "- [Real life object detection with YOLO](https://www.kaggle.com/code/rehamh/car-object-detection-yolov11n)\n",
    "- Generative models\n",
    "    - [Autoencoders](https://www.kaggle.com/code/herrmilt/mnist-autoencoder/)\n",
    "    - [VAE](https://www.kaggle.com/code/herrmilt/mnist-vae)\n",
    "- [GANs](https://www.kaggle.com/code/herrmilt/anime-gan)"
   ]
  },
  {
   "cell_type": "markdown",
   "metadata": {},
   "source": []
  }
 ],
 "metadata": {
  "language_info": {
   "name": "python"
  }
 },
 "nbformat": 4,
 "nbformat_minor": 2
}
