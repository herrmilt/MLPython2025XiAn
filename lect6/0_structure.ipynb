{
 "cells": [
  {
   "cell_type": "markdown",
   "metadata": {},
   "source": [
    "# Practice Lecture 4\n",
    "- Fast Quiz\n",
    "- [Training a network exercises](code_examples.ipynb)\n",
    "\n",
    "# Lecture 6. Miscelaneous content\n",
    "- Fighting overfitting\n",
    "    - [Regularization](regularization.pdf)\n",
    "    - [Code examples](regularization_code.ipynb)\n",
    "- [Introduction to audio processing](https://www.kaggle.com/code/deepaksinghrawat/in-depth-introduction-to-audio-for-beginners#Fourier-Transforms)\n",
    "    - [Audio digits](https://www.kaggle.com/code/padmanabhanporaiyar/audio-mnist-classification-98-accuracy)\n",
    "- Natural Language Processing (NLP)\n",
    "    - [Principal Components Analysis (PCA)](pca.ipynb)\n",
    "    - [NLP Introduction](nlp_intro.pdf)\n",
    "\n",
    "\n",
    "# PNI Quiz\n",
    "\n",
    "\n"
   ]
  },
  {
   "cell_type": "markdown",
   "metadata": {},
   "source": []
  }
 ],
 "metadata": {
  "language_info": {
   "name": "python"
  }
 },
 "nbformat": 4,
 "nbformat_minor": 2
}
