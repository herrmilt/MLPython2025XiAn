{
 "cells": [
  {
   "cell_type": "markdown",
   "id": "d9768a82",
   "metadata": {},
   "source": [
    "1. What does variable 'data' contains after assignment"
   ]
  },
  {
   "cell_type": "code",
   "execution_count": null,
   "id": "c8d70a7a",
   "metadata": {},
   "outputs": [],
   "source": [
    "from torchvision import transforms, datasets\n",
    "\n",
    "img = Image.open('/kaggle/input/cats-and-dogs-image-classification/train/cats/cat_10.jpg')\n",
    "transf = transforms.ToTensor()\n",
    "data = transf(img)"
   ]
  },
  {
   "cell_type": "markdown",
   "id": "8ff08947",
   "metadata": {},
   "source": [
    "2. What datasets.ImageFolder performs?\n",
    "    - what does V1 and V2 variables contains after assigned"
   ]
  },
  {
   "cell_type": "code",
   "execution_count": null,
   "id": "e18e9dfb",
   "metadata": {},
   "outputs": [],
   "source": [
    "data_dir = '/kaggle/input/cats-and-dogs-image-classification/train'\n",
    "\n",
    "transform = transforms.Compose([\n",
    "    transforms.Resize((128, 128)),  \n",
    "    transforms.ToTensor(),\n",
    "])\n",
    "\n",
    "dataset = datasets.ImageFolder(root=data_dir, transform=transform)\n",
    "V1, V2 = dataset[0]"
   ]
  },
  {
   "cell_type": "markdown",
   "id": "32ecf9be",
   "metadata": {},
   "source": [
    "3. What is the task of a DataLoader\n",
    "    - What do the code prints?"
   ]
  },
  {
   "cell_type": "code",
   "execution_count": null,
   "id": "3742e25c",
   "metadata": {},
   "outputs": [],
   "source": [
    "dataloader = DataLoader(dataset, batch_size=32, shuffle=True)\n",
    "for images, labels in dataloader:\n",
    "    print(images.shape, labels.shape)"
   ]
  },
  {
   "cell_type": "markdown",
   "id": "98342b44",
   "metadata": {},
   "source": [
    "4. Consider this model is used for image classification\n",
    "    - What is the size and type of the classified images\n",
    "    - How many classes the problem contains?"
   ]
  },
  {
   "cell_type": "code",
   "execution_count": null,
   "id": "e804dbf6",
   "metadata": {},
   "outputs": [],
   "source": [
    "class LinearClassifier(nn.Module):\n",
    "    def __init__(self):\n",
    "        super(LinearClassifier, self).__init__()\n",
    "        self.model = nn.Sequential(\n",
    "            nn.Linear(in_features=3*50*50, out_features=100), \n",
    "            nn.ReLU(),        \n",
    "            nn.Linear(in_features=100, out_features=3),\n",
    "        )\n",
    "\n",
    "    def forward(self, x):\n",
    "        batch_size = x.shape[0]\n",
    "        x = x.view(batch_size, -1)\n",
    "        x = self.model(x)\n",
    "        return x"
   ]
  },
  {
   "cell_type": "markdown",
   "id": "1ade85aa",
   "metadata": {},
   "source": [
    "5. For this convolutional layer:\n",
    "    - What do the in_channels and out_channels mean?\n",
    "    - What is the kernel_size?\n",
    "    - What it the shape of the convoluted test_image"
   ]
  },
  {
   "cell_type": "code",
   "execution_count": null,
   "id": "129668d2",
   "metadata": {},
   "outputs": [],
   "source": [
    "conv = nn.Conv2d(in_channels=1, out_channels=5, kernel_size=3, padding='same')\n",
    "test_image = torch.rand(1, 28, 28)\n",
    "conv(test_image).shape"
   ]
  },
  {
   "cell_type": "markdown",
   "id": "45e43368",
   "metadata": {},
   "source": [
    "6. What are the expected value of ??? parameter\n",
    "    - What is the shape of the convoluted image"
   ]
  },
  {
   "cell_type": "code",
   "execution_count": null,
   "id": "8875b618",
   "metadata": {},
   "outputs": [],
   "source": [
    "conv = nn.Conv2d(in_channels=3, out_channels=7, kernel_size=5, padding='same')\n",
    "test_image = torch.rand(???, 50, 50)\n",
    "conv(test_image).shape"
   ]
  },
  {
   "cell_type": "markdown",
   "id": "2de7c186",
   "metadata": {},
   "source": [
    "7. What is the shape of the pooled image?"
   ]
  },
  {
   "cell_type": "code",
   "execution_count": null,
   "id": "af220230",
   "metadata": {},
   "outputs": [],
   "source": [
    "pool = nn.MaxPool2d(kernel_size=3, stride=3)\n",
    "img = torch.rand(5, 30, 30)\n",
    "pool(img).shape"
   ]
  },
  {
   "cell_type": "markdown",
   "id": "56b3187e",
   "metadata": {},
   "source": [
    "8. For this simple CNN answer:\n",
    "    - How many convolutional layers does it contains?\n",
    "    - What the Flatten() layer doing?"
   ]
  },
  {
   "cell_type": "code",
   "execution_count": null,
   "id": "750313d3",
   "metadata": {},
   "outputs": [],
   "source": [
    "class SimpleCNN(nn.Module):\n",
    "    def __init__(self):\n",
    "        super(SimpleCNN, self).__init__()\n",
    "        self.model = nn.Sequential(\n",
    "            nn.Conv2d(1, 8, kernel_size=5, padding='valid'),\n",
    "            nn.ReLU(),\n",
    "            nn.MaxPool2d(2),\n",
    "            nn.Conv2d(8, 16, kernel_size=5, padding='valid'),\n",
    "            nn.ReLU(),\n",
    "            nn.MaxPool2d(2),            \n",
    "            nn.Flatten(), \n",
    "            nn.Linear(4 * 4 * 16, 128),  \n",
    "            nn.ReLU(),\n",
    "            nn.Linear(128, 10)\n",
    "        )"
   ]
  },
  {
   "cell_type": "markdown",
   "id": "3045be83",
   "metadata": {},
   "source": [
    "9. What is this code actually doing?"
   ]
  },
  {
   "cell_type": "code",
   "execution_count": null,
   "id": "ec787e90",
   "metadata": {},
   "outputs": [],
   "source": [
    "from torchvision import models\n",
    "\n",
    "model = models.resnet18(weights=models.ResNet18_Weights.IMAGENET1K_V1)"
   ]
  },
  {
   "cell_type": "markdown",
   "id": "62a7ab37",
   "metadata": {},
   "source": [
    "10. In the following code:\n",
    "    - What is the step in line 5 doing?\n",
    "    - What is the fist for loop doing?\n",
    "    - What is the second for loop doing?\n"
   ]
  },
  {
   "cell_type": "code",
   "execution_count": null,
   "id": "77b5721c",
   "metadata": {},
   "outputs": [],
   "source": [
    "def create_model():\n",
    "    model = models.resnet18(weights=models.ResNet18_Weights.IMAGENET1K_V1)\n",
    "\n",
    "    num_ftrs = model.fc.in_features\n",
    "    model.fc = nn.Linear(num_ftrs, num_classes)  \n",
    "    \n",
    "    for param in model.parameters():\n",
    "        param.requires_grad = False  \n",
    "    \n",
    "    for param in model.fc.parameters():\n",
    "        param.requires_grad = True\n",
    "\n",
    "    return model"
   ]
  }
 ],
 "metadata": {
  "kernelspec": {
   "display_name": "torch_teach",
   "language": "python",
   "name": "python3"
  },
  "language_info": {
   "codemirror_mode": {
    "name": "ipython",
    "version": 3
   },
   "file_extension": ".py",
   "mimetype": "text/x-python",
   "name": "python",
   "nbconvert_exporter": "python",
   "pygments_lexer": "ipython3",
   "version": "3.10.14"
  }
 },
 "nbformat": 4,
 "nbformat_minor": 5
}
