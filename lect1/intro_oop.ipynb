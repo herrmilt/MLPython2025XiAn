{
 "cells": [
  {
   "cell_type": "markdown",
   "id": "8ffd724e",
   "metadata": {},
   "source": [
    "# Introduction to Object Oriented Programming in Python\n",
    "In Python, all variables has an associated \"type\". That type limit 'what' can be done with the reference"
   ]
  },
  {
   "cell_type": "code",
   "execution_count": null,
   "id": "6e81cd91",
   "metadata": {},
   "outputs": [],
   "source": [
    "x = 1\n",
    "type(x)"
   ]
  },
  {
   "cell_type": "code",
   "execution_count": null,
   "id": "fbebc5cd",
   "metadata": {},
   "outputs": [],
   "source": [
    "y = 'lolo'\n",
    "type(y)"
   ]
  },
  {
   "cell_type": "code",
   "execution_count": null,
   "id": "e7198e32",
   "metadata": {},
   "outputs": [],
   "source": [
    "# We can add a constant to a integer\n",
    "x+1"
   ]
  },
  {
   "cell_type": "code",
   "execution_count": null,
   "id": "b761837b",
   "metadata": {
    "scrolled": true
   },
   "outputs": [],
   "source": [
    "# But we cannot add a string to a integer\n",
    "x+'lolo'"
   ]
  },
  {
   "cell_type": "code",
   "execution_count": null,
   "id": "662aeb86",
   "metadata": {},
   "outputs": [],
   "source": [
    "# Note that even expressions also have a type\n",
    "type(3 + 4 * 2.3)"
   ]
  },
  {
   "cell_type": "code",
   "execution_count": null,
   "id": "63726c5d",
   "metadata": {},
   "outputs": [],
   "source": [
    "# So, where are all these rules stored?\n",
    "\n",
    "print(type(2.0))"
   ]
  },
  {
   "cell_type": "markdown",
   "id": "d79249b1",
   "metadata": {},
   "source": [
    "In Python, everything is an 'object', and every object belong to a class:\n",
    "- A class is a template to create objects\n",
    "- A class include all the operations that can be performed with an object, and the implementation of that operations"
   ]
  },
  {
   "cell_type": "markdown",
   "id": "3acab6e3",
   "metadata": {},
   "source": [
    "Why are objects necesary? Consider this example: you want to create a system to classify patients based on some information included in its medical records. How to store that information in python?\n",
    "\n",
    "First solution, use tuples. Supose we want to store the name, year of birth, weight, and height."
   ]
  },
  {
   "cell_type": "code",
   "execution_count": null,
   "id": "a7537fdb",
   "metadata": {},
   "outputs": [],
   "source": [
    "patients = [\n",
    "    ('Alice', 1994, 94.05, 183.24),\n",
    "    ('Bob', 1973, 65.29, 174.69),\n",
    "    ('Charlie', 1978, 72.52, 157.49),\n",
    "    ('Diana', 1958, 95.85, 163.67),\n",
    "    ('Ethan', 1982, 57.93, 188.61),\n",
    "    ('Fiona', 1989, 96.01, 164.61),\n",
    "    ('George', 1951, 73.26, 173.48),\n",
    "    ('Hannah', 1989, 66.41, 196.53),\n",
    "    ('Ian', 1992, 52.03, 178.66),\n",
    "    ('Julia', 1950, 88.53, 171.54)\n",
    "]"
   ]
  },
  {
   "cell_type": "markdown",
   "id": "fe4d5f8b",
   "metadata": {},
   "source": [
    "One problem with this representation is that you need to remember which position inside the tuple has each feature. Additionally, if you later remove one feature or insert a new one, all the code that uses the hard-coded position will fails. "
   ]
  },
  {
   "cell_type": "code",
   "execution_count": null,
   "id": "6c549971",
   "metadata": {},
   "outputs": [],
   "source": [
    "import numpy as np\n",
    "def get_mean_age(persons):\n",
    "    return np.mean([p[2] for p in persons])\n",
    "\n",
    "get_mean_age(patients)"
   ]
  },
  {
   "cell_type": "code",
   "execution_count": null,
   "id": "1609e10e",
   "metadata": {
    "scrolled": true
   },
   "outputs": [],
   "source": [
    "# Then later I decide to remove the name because it is irrelevant.\n",
    "patients = [\n",
    "    (1994, 94.05, 183.24),\n",
    "    (1973, 65.29, 174.69),\n",
    "    (1978, 72.52, 157.49),\n",
    "    (1958, 95.85, 163.67),\n",
    "    (1982, 57.93, 188.61),\n",
    "    (1989, 96.01, 164.61),\n",
    "    (1951, 73.26, 173.48),\n",
    "    (1989, 66.41, 196.53),\n",
    "    (1992, 52.03, 178.66),\n",
    "    (1950, 88.53, 171.54)\n",
    "]\n",
    "get_mean_age(patients)"
   ]
  },
  {
   "cell_type": "markdown",
   "id": "9ab6886c",
   "metadata": {},
   "source": [
    "This introduces a subtle error that can be very difficult to find in the future. \n",
    "\n",
    "A solution, use dictionaries instead of tuples."
   ]
  },
  {
   "cell_type": "code",
   "execution_count": null,
   "id": "df63341c",
   "metadata": {
    "scrolled": true
   },
   "outputs": [],
   "source": [
    "patients = [\n",
    "    {'name': 'Alice', 'year_of_birth': 1994, 'weight': 94.05, 'height': 183.24},\n",
    "    {'name': 'Bob', 'year_of_birth': 1973, 'weight': 65.29, 'height': 174.69},\n",
    "    {'name': 'Charlie', 'year_of_birth': 1978, 'weight': 72.52, 'height': 157.49},\n",
    "    {'name': 'Diana', 'year_of_birth': 1958, 'weight': 95.85, 'height': 163.67},\n",
    "    {'name': 'Ethan', 'year_of_birth': 1982, 'weight': 57.93, 'height': 188.61},\n",
    "    {'name': 'Fiona', 'year_of_birth': 1989, 'weight': 96.01, 'height': 164.61},\n",
    "    {'name': 'George', 'year_of_birth': 1951, 'weight': 73.26, 'height': 173.48},\n",
    "    {'name': 'Hannah', 'year_of_birth': 1989, 'weight': 66.41, 'height': 196.53},\n",
    "    {'name': 'Ian', 'year_of_birth': 1992, 'weight': 52.03, 'height': 178.66},\n",
    "    {'name': 'Julia', 'year_of_birth': 1950, 'weight': 88.53, 'height': 171.54}\n",
    "]\n",
    "\n",
    "def get_mean_age(persons):\n",
    "    return np.mean([p['weight'] for p in persons])\n",
    "\n",
    "get_mean_age(patients)"
   ]
  },
  {
   "cell_type": "markdown",
   "id": "232288ef",
   "metadata": {},
   "source": [
    "Note that now we solved the problem, because the position is now irrelevant.\n",
    "\n",
    "Supose now that we want to calculate the approximate age a patient on a given year."
   ]
  },
  {
   "cell_type": "code",
   "execution_count": null,
   "id": "43cf587f",
   "metadata": {},
   "outputs": [],
   "source": [
    "def calculate_age(person, year):\n",
    "    return year - person['year_of_birth']\n",
    "\n",
    "calculate_age(patients[0], 2023)"
   ]
  },
  {
   "cell_type": "markdown",
   "id": "b944d8db",
   "metadata": {},
   "source": [
    "Now, I decided to change the way of representing the age, so I use a datetime."
   ]
  },
  {
   "cell_type": "code",
   "execution_count": null,
   "id": "396dd673",
   "metadata": {},
   "outputs": [],
   "source": [
    "import datetime\n",
    "\n",
    "patients = [\n",
    "    {'name': 'Alice', 'birth_date': datetime.date(1994, 10, 11), 'weight': 94.05, 'height': 183.24},\n",
    "    {'name': 'Bob', 'birth_date': datetime.date(1973, 5, 24), 'weight': 65.29, 'height': 174.69},\n",
    "    {'name': 'Charlie', 'birth_date': datetime.date(1978, 3, 24), 'weight': 72.52, 'height': 157.49},\n",
    "    {'name': 'Diana', 'birth_date': datetime.date(1958, 8, 2), 'weight': 95.85, 'height': 163.67},\n",
    "    {'name': 'Ethan', 'birth_date': datetime.date(1982, 2, 5), 'weight': 57.93, 'height': 188.61},\n",
    "    {'name': 'Fiona', 'birth_date': datetime.date(1989, 12, 28), 'weight': 96.01, 'height': 164.61},\n",
    "    {'name': 'George', 'birth_date': datetime.date(1951, 1, 6), 'weight': 73.26, 'height': 173.48},\n",
    "    {'name': 'Hannah', 'birth_date': datetime.date(1989, 4, 28), 'weight': 66.41, 'height': 196.53},\n",
    "    {'name': 'Ian', 'birth_date': datetime.date(1992, 12, 14), 'weight': 52.03, 'height': 178.66},\n",
    "    {'name': 'Julia', 'birth_date': datetime.date(1950, 9, 13), 'weight': 88.53, 'height': 171.54}\n",
    "]\n",
    "\n",
    "calculate_age(patients[0])"
   ]
  },
  {
   "cell_type": "markdown",
   "id": "ab907b2a",
   "metadata": {},
   "source": [
    "The original cause of this problem is that we separeted the data structures containing the information and the procedures that operates on that information. \n",
    "\n",
    "Objects, on the other hand, contains the information together with the procedures (named methods) that access and modify that information."
   ]
  },
  {
   "cell_type": "code",
   "execution_count": null,
   "id": "4b343dd2",
   "metadata": {},
   "outputs": [],
   "source": [
    "class Person:\n",
    "    def __init__(self, name, year_of_birth, weight, height):\n",
    "        self.name = name\n",
    "        self.year_of_birth = year_of_birth\n",
    "        self.weight = weight\n",
    "        self.height = height\n",
    "        \n",
    "    def calculate_age(self, year):\n",
    "        return year - self.year_of_birth\n",
    "    \n",
    "# Example list of Person objects\n",
    "patients = [\n",
    "    Person(name='Alice', year_of_birth=1994, weight=94.05, height=183.24),\n",
    "    Person(name='Bob', year_of_birth=1973, weight=65.29, height=174.69),\n",
    "    Person(name='Charlie', year_of_birth=1978, weight=72.52, height=157.49),\n",
    "    Person(name='Diana', year_of_birth=1978, weight=95.85, height=163.67)\n",
    "]\n",
    "patients[0].calculate_age(2023)"
   ]
  },
  {
   "cell_type": "markdown",
   "id": "92db9620",
   "metadata": {},
   "source": [
    "If the stored data changes, there is very simple to accomodate the class."
   ]
  },
  {
   "cell_type": "code",
   "execution_count": null,
   "id": "837357d2",
   "metadata": {},
   "outputs": [],
   "source": [
    "class Person:\n",
    "    def __init__(self, name, birth_date, weight, height):\n",
    "        self.name = name\n",
    "        self.birth_date = birth_date\n",
    "        self.weight = weight\n",
    "        self.height = height\n",
    "        \n",
    "    def calculate_age(self, year):\n",
    "        return year - self.birth_date.year\n",
    "    \n",
    "# Example list of Person objects\n",
    "patients = [\n",
    "    Person(name='Alice', birth_date=datetime.date(1994, 10, 11), weight=94.05, height=183.24),\n",
    "    Person(name='Bob', birth_date=datetime.date(1973, 5, 24), weight=65.29, height=174.69),\n",
    "    Person(name='Charlie', birth_date=datetime.date(1978, 3, 24), weight=72.52, height=157.49),\n",
    "    Person(name='Diana', birth_date=datetime.date(1958, 8, 2), weight=95.85, height=163.67)\n",
    "]\n",
    "patients[0].calculate_age(2023)"
   ]
  },
  {
   "cell_type": "markdown",
   "id": "5ddc3bbe",
   "metadata": {},
   "source": [
    "What is \"self\"? Since all the objects share the same class, we need a way in the methods to differentiate the actual object created.\n",
    "\n",
    "In the previous example, all the four persons share the same definition of calculate_year. When the method is called, the self received the actual object used."
   ]
  },
  {
   "cell_type": "code",
   "execution_count": null,
   "id": "607b617a",
   "metadata": {},
   "outputs": [],
   "source": [
    "class Person:\n",
    "    def __init__(self, name, birth_date, weight, height):\n",
    "        self.name = name\n",
    "        self.birth_date = birth_date\n",
    "        self.weight = weight\n",
    "        self.height = height\n",
    "        \n",
    "    def calculate_age(self, year):\n",
    "        print(\"Current name of self: \", self.name)\n",
    "        return year - self.birth_date.year\n",
    "    \n",
    "alice = Person(name='Alice', birth_date=datetime.date(1994, 10, 11), weight=94.05, height=183.24)\n",
    "bob = Person(name='Bob', birth_date=datetime.date(1973, 5, 24), weight=65.29, height=174.69)\n",
    "\n",
    "alice.calculate_age(2024)"
   ]
  },
  {
   "cell_type": "code",
   "execution_count": null,
   "id": "adc1bc22",
   "metadata": {
    "scrolled": true
   },
   "outputs": [],
   "source": [
    "bob.calculate_age(2024)"
   ]
  },
  {
   "cell_type": "markdown",
   "id": "b7b89aff",
   "metadata": {},
   "source": [
    "# Special methods\n",
    "\n",
    "**The \\_\\_init\\_\\_ method**.\n",
    "In Python, you can use some special methods inside the class definition. They are all surrounded by double underscores. The \\_\\_init\\_\\_ is called to initialize the internal state of the object, and it is strongly sugested to use it.\n",
    "\n",
    "Like any method, it can include parameters to help in the initialization."
   ]
  },
  {
   "cell_type": "code",
   "execution_count": null,
   "id": "9647210a",
   "metadata": {},
   "outputs": [],
   "source": [
    "class Person:\n",
    "    def __init__(self, name, birth_date, weight, height):\n",
    "        self.name = name\n",
    "        self.birth_date = birth_date\n",
    "        self.year = birth_date.year\n",
    "        self.weight = weight\n",
    "        self.height = height\n",
    "        self.gender = None\n",
    "        \n",
    "bob = Person('Bob', datetime.date(2003, 1, 2), 23.4, 156.3)\n",
    "bob.name, bob.year, bob.gender"
   ]
  },
  {
   "cell_type": "markdown",
   "id": "fb3ad84a",
   "metadata": {},
   "source": [
    "To create an object, you use the name of the class, together with the parameters expected by the \\_\\_init\\_\\_ method.\n",
    "\n",
    "Note: Since \\_\\_init\\_\\_ is a method, you can use default values for parameters, args, etc."
   ]
  },
  {
   "cell_type": "code",
   "execution_count": null,
   "id": "42c4cc52",
   "metadata": {},
   "outputs": [],
   "source": [
    "bob"
   ]
  },
  {
   "cell_type": "code",
   "execution_count": null,
   "id": "30440a9d",
   "metadata": {},
   "outputs": [],
   "source": [
    "# Special method __repr__\n",
    "class Person:\n",
    "    def __init__(self, name, birth_date, weight, height):\n",
    "        self.name = name\n",
    "        self.birth_date = birth_date\n",
    "        self.year = birth_date.year\n",
    "        self.weight = weight\n",
    "        self.height = height\n",
    "        self.gender = None\n",
    "        \n",
    "    def __repr__(self):\n",
    "        return f\"Person(name='{self.name}')\"\n",
    "        \n",
    "bob = Person('Bob', datetime.date(2003, 1, 2), 23.4, 156.3)\n",
    "bob"
   ]
  },
  {
   "cell_type": "markdown",
   "id": "4a0326a8",
   "metadata": {},
   "source": [
    "## Arithmetical special methods\n",
    "\n",
    "In Python, object created by user classes can behave identically to builtin objects. This is all achieved by using special methods. Here we will review the most common ones."
   ]
  },
  {
   "cell_type": "code",
   "execution_count": null,
   "id": "726501fc",
   "metadata": {},
   "outputs": [],
   "source": [
    "class Vector:\n",
    "    def __init__(self, x, y):\n",
    "        self.x = x\n",
    "        self.y = y\n",
    "\n",
    "    def __repr__(self):\n",
    "        return f\"Vector({self.x}, {self.y})\"\n",
    "\n",
    "    def __add__(self, other):\n",
    "        return Vector(self.x + other.x, self.y + other.y)\n",
    "\n",
    "    def __sub__(self, other):\n",
    "        return Vector(self.x - other.x, self.y - other.y)\n",
    "\n",
    "v1 = Vector(2, 3)\n",
    "v2 = Vector(5, 7)\n",
    "print(v1 + v2)  \n",
    "print(v1 - v2) "
   ]
  },
  {
   "cell_type": "code",
   "execution_count": null,
   "id": "c0d8ed49",
   "metadata": {
    "scrolled": true
   },
   "outputs": [],
   "source": [
    "v1 + (2, 3)"
   ]
  },
  {
   "cell_type": "code",
   "execution_count": null,
   "id": "fb304e05",
   "metadata": {},
   "outputs": [],
   "source": [
    "class Vector:\n",
    "    def __init__(self, x, y):\n",
    "        self.x = x\n",
    "        self.y = y\n",
    "\n",
    "    def __repr__(self):\n",
    "        return f\"Vector({self.x}, {self.y})\"\n",
    "\n",
    "    def __add__(self, other):\n",
    "        if isinstance(other, tuple):\n",
    "            print('lolo')\n",
    "            other = Vector(other[0], other[1])\n",
    "        return Vector(self.x + other.x, self.y + other.y)\n",
    "\n",
    "    def __sub__(self, other):\n",
    "        return Vector(self.x - other.x, self.y - other.y)\n",
    "    \n",
    "v1 = Vector(2, 3)\n",
    "v1 + (3, 5)"
   ]
  },
  {
   "cell_type": "code",
   "execution_count": null,
   "id": "34f1b208",
   "metadata": {},
   "outputs": [],
   "source": [
    "(3, 5) + v1"
   ]
  },
  {
   "cell_type": "code",
   "execution_count": null,
   "id": "05f62c5f",
   "metadata": {},
   "outputs": [],
   "source": [
    "class Vector:\n",
    "    def __init__(self, x, y):\n",
    "        self.x = x\n",
    "        self.y = y\n",
    "\n",
    "    def __repr__(self):\n",
    "        return f\"Vector({self.x}, {self.y})\"\n",
    "    \n",
    "    def __add__(self, other):\n",
    "        if isinstance(other, tuple):\n",
    "            print('lolo')\n",
    "            other = Vector(other[0], other[1])\n",
    "        return Vector(self.x + other.x, self.y + other.y)\n",
    "\n",
    "    def __radd__(self, other):\n",
    "        return self + other\n",
    "\n",
    "    def __sub__(self, other):\n",
    "        return Vector(self.x - other.x, self.y - other.y)\n",
    "    \n",
    "v1 = Vector(2, 3)\n",
    "(3, 5) + v1"
   ]
  },
  {
   "cell_type": "markdown",
   "id": "af81c357",
   "metadata": {},
   "source": [
    "Lets create a class for handling complex numbers"
   ]
  },
  {
   "cell_type": "code",
   "execution_count": null,
   "id": "68a8824c",
   "metadata": {},
   "outputs": [],
   "source": [
    "class ComplexNumber:\n",
    "    def __init__(self, real, imag):\n",
    "        self.real = real\n",
    "        self.imag = imag\n",
    "\n",
    "    def __repr__(self):\n",
    "        return f\"{self.real} + {self.imag}i\"\n",
    "\n",
    "    def __add__(self, other):\n",
    "        return ComplexNumber(self.real + other.real, self.imag + other.imag)\n",
    "\n",
    "    def __eq__(self, other):\n",
    "        return self.real == other.real and self.imag == other.imag\n",
    "\n",
    "\n",
    "c1 = ComplexNumber(1, 2)\n",
    "c2 = ComplexNumber(3, -1)\n",
    "c3 = ComplexNumber(1, 2)\n",
    "print(c1 + c2)  "
   ]
  },
  {
   "cell_type": "code",
   "execution_count": null,
   "id": "3196c59a",
   "metadata": {},
   "outputs": [],
   "source": [
    "print(c1 == c2) \n",
    "print(c1 is c3)\n",
    "print(c1 == c3)"
   ]
  },
  {
   "cell_type": "code",
   "execution_count": null,
   "id": "a1e422ef",
   "metadata": {},
   "outputs": [],
   "source": [
    "class ComplexNumber:\n",
    "    def __init__(self, real, imag):\n",
    "        self.real = real\n",
    "        self.imag = imag\n",
    "\n",
    "    def __repr__(self):\n",
    "        return f\"{self.real} + {self.imag}i\" if self.imag >= 0 else f\"{self.real} - {-self.imag}i\"\n",
    "\n",
    "    def __add__(self, other):\n",
    "        if isinstance(other, (int, float)):  # handle real numbers as complex with zero imaginary part\n",
    "            other = ComplexNumber(other, 0)\n",
    "        return ComplexNumber(self.real + other.real, self.imag + other.imag)\n",
    "\n",
    "    def __radd__(self, other):\n",
    "        return self.__add__(other)  # addition is commutative\n",
    "\n",
    "    def __sub__(self, other):\n",
    "        if isinstance(other, (int, float)):\n",
    "            other = ComplexNumber(other, 0)\n",
    "        return ComplexNumber(self.real - other.real, self.imag - other.imag)\n",
    "\n",
    "    def __rsub__(self, other):\n",
    "        if isinstance(other, (int, float)):\n",
    "            other = ComplexNumber(other, 0)\n",
    "        return other.__sub__(self)\n",
    "\n",
    "    def __mul__(self, other):\n",
    "        if isinstance(other, (int, float)):\n",
    "            return ComplexNumber(self.real * other, self.imag * other)\n",
    "        return ComplexNumber(self.real * other.real - self.imag * other.imag, self.imag * other.real + self.real * other.imag)\n",
    "\n",
    "    def __rmul__(self, other):\n",
    "        return self.__mul__(other)  # multiplication is commutative\n",
    "\n",
    "    def __truediv__(self, other):\n",
    "        if isinstance(other, (int, float)):\n",
    "            return ComplexNumber(self.real / other, self.imag / other)\n",
    "        denom = other.real**2 + other.imag**2\n",
    "        real = (self.real * other.real + self.imag * other.imag) / denom\n",
    "        imag = (self.imag * other.real - self.real * other.imag) / denom\n",
    "        return ComplexNumber(real, imag)\n",
    "\n",
    "    def __rtruediv__(self, other):\n",
    "        if isinstance(other, (int, float)):\n",
    "            other = ComplexNumber(other, 0)\n",
    "        return other.__truediv__(self)\n",
    "\n",
    "    def __neg__(self):\n",
    "        return ComplexNumber(-self.real, -self.imag)\n",
    "\n",
    "    def inverse(self):\n",
    "        denom = self.real**2 + self.imag**2\n",
    "        if denom == 0:\n",
    "            raise ZeroDivisionError(\"Cannot take the inverse of zero.\")\n",
    "        return ComplexNumber(self.real / denom, -self.imag / denom)\n",
    "\n",
    "# Example usage:\n",
    "c1 = ComplexNumber(3, 4)\n",
    "print(1 + c1)   # 4 + 4i (using __radd__)\n",
    "print(5 - c1)   # 2 - 4i (using __rsub__)\n",
    "print(2 * c1)   # 6 + 8i (using __rmul__)\n",
    "print(10 / c1)  # 0.24 - 0.32i (using __rtruediv__)"
   ]
  },
  {
   "cell_type": "markdown",
   "id": "68ebce30",
   "metadata": {},
   "source": [
    "## Other special methods\n",
    "### Iteration"
   ]
  },
  {
   "cell_type": "code",
   "execution_count": null,
   "id": "d3dd444b",
   "metadata": {},
   "outputs": [],
   "source": [
    "class Countdown:\n",
    "    def __init__(self, start):\n",
    "        self.current = start\n",
    "\n",
    "    def __iter__(self):\n",
    "        return self\n",
    "\n",
    "    def __next__(self):\n",
    "        if self.current <= 0:\n",
    "            raise StopIteration\n",
    "        num = self.current\n",
    "        self.current -= 1\n",
    "        return num\n",
    "\n",
    "for number in Countdown(5):\n",
    "    print(number)  # Prints numbers from 5 down to 1"
   ]
  },
  {
   "cell_type": "markdown",
   "id": "ad8d025e",
   "metadata": {},
   "source": [
    "### Item access"
   ]
  },
  {
   "cell_type": "code",
   "execution_count": null,
   "id": "05bbce9d",
   "metadata": {},
   "outputs": [],
   "source": [
    "class FlexibleList:\n",
    "    def __init__(self):\n",
    "        self.data = []\n",
    "\n",
    "    def __getitem__(self, index):\n",
    "        return self.data[index]\n",
    "\n",
    "    def __setitem__(self, index, value):\n",
    "        if index >= len(self.data):\n",
    "            self.data.extend([None] * (index + 1 - len(self.data)))\n",
    "        self.data[index] = value\n",
    "\n",
    "    def __delitem__(self, index):\n",
    "        del self.data[index]\n",
    "\n",
    "flist = FlexibleList()\n",
    "flist[2] = \"Hello\"\n",
    "print(flist.data) "
   ]
  },
  {
   "cell_type": "code",
   "execution_count": null,
   "id": "d11e40dd",
   "metadata": {},
   "outputs": [],
   "source": [
    "del flist[2]\n",
    "print(flist.data)"
   ]
  },
  {
   "cell_type": "markdown",
   "id": "0edc67c5",
   "metadata": {},
   "source": [
    "### Enter/exit special methods"
   ]
  },
  {
   "cell_type": "code",
   "execution_count": null,
   "id": "94a885b5",
   "metadata": {},
   "outputs": [],
   "source": [
    "import time\n",
    "\n",
    "class Timer:\n",
    "    def __init__(self):\n",
    "        self.start = None\n",
    "        self.end = None\n",
    "        self.duration = None\n",
    "\n",
    "    def __enter__(self):\n",
    "        self.start = time.time()\n",
    "        return self  \n",
    "\n",
    "    def __exit__(self, exc_type, exc_value, traceback):\n",
    "        self.end = time.time()\n",
    "        self.duration = self.end - self.start\n",
    "        print(f\"Elapsed time: {self.duration:.6f} seconds\")\n",
    "\n",
    "with Timer() as t:\n",
    "    s = \"\"\n",
    "    for _ in range(1000000):\n",
    "        s += 'a'\n",
    "        \n",
    "with Timer() as t:\n",
    "    s = 'a' * 1000000\n",
    "        "
   ]
  },
  {
   "cell_type": "markdown",
   "id": "e89418b9",
   "metadata": {},
   "source": [
    "### Comparison methods"
   ]
  },
  {
   "cell_type": "code",
   "execution_count": null,
   "id": "a4407ef3",
   "metadata": {},
   "outputs": [],
   "source": [
    "class Student:\n",
    "    def __init__(self, name, grade):\n",
    "        self.name = name\n",
    "        self.grade = grade\n",
    "        \n",
    "    def __repr__(self):\n",
    "        return f\"Student({self.name}, grade={self.grade})\"\n",
    "\n",
    "    def __eq__(self, other):\n",
    "        return self.grade == other.grade\n",
    "\n",
    "    def __lt__(self, other):\n",
    "        return self.grade < other.grade\n",
    "\n",
    "students = [\n",
    "    Student(\"John\", 90), \n",
    "    Student(\"Doe\", 88),\n",
    "    Student(\"Mary\", 60)\n",
    "]\n",
    "sorted(students)"
   ]
  },
  {
   "cell_type": "markdown",
   "id": "f5200867",
   "metadata": {},
   "source": [
    "### Making an object callable"
   ]
  },
  {
   "cell_type": "code",
   "execution_count": null,
   "id": "e27570db",
   "metadata": {},
   "outputs": [],
   "source": [
    "class Multiplier:\n",
    "    def __init__(self, factor):\n",
    "        self.factor = factor\n",
    "\n",
    "    def __call__(self, x):\n",
    "        return x * self.factor\n",
    "\n",
    "\n",
    "doubler = Multiplier(2)  \n",
    "print(type(doubler))\n",
    "doubler(5)"
   ]
  },
  {
   "cell_type": "code",
   "execution_count": null,
   "id": "4996464a",
   "metadata": {},
   "outputs": [],
   "source": [
    "tripler = Multiplier(3)\n",
    "tripler(5)"
   ]
  },
  {
   "cell_type": "markdown",
   "id": "fb7133a7",
   "metadata": {},
   "source": [
    "# Some OOP concepts\n",
    "## Encapsulation\n",
    "Encapsulation is the bundling of data with the methods that operate on that data. It restricts direct access to some of an object's components, which can prevent the accidental modification of data. "
   ]
  },
  {
   "cell_type": "code",
   "execution_count": null,
   "id": "6bbaa241",
   "metadata": {},
   "outputs": [],
   "source": [
    "class BankAccount:\n",
    "    def __init__(self, initial_balance):\n",
    "        self.balance = max(0, initial_balance)\n",
    "        \n",
    "    def __repr__(self):\n",
    "        return f\"BankAccount(balance={self.balance})\"\n",
    "        \n",
    "    def deposit(self, amount):\n",
    "        if amount > 0:\n",
    "            self.balance += amount\n",
    "        else:\n",
    "            raise ValueError('Amount must be positive')\n",
    "\n",
    "    def withdraw(self, amount):\n",
    "        if 0 < amount <= self.balance:\n",
    "            self.balance -= amount\n",
    "        else:\n",
    "            raise ValueError('Not enough money to withdraw')\n",
    "\n",
    "    def get_balance(self):\n",
    "        return self.balance\n",
    "    \n",
    "account = BankAccount(1000)\n",
    "account.deposit(500)\n",
    "print(account.get_balance()) \n",
    "account.withdraw(200)\n",
    "print(account.get_balance()) "
   ]
  },
  {
   "cell_type": "code",
   "execution_count": null,
   "id": "951b11fa",
   "metadata": {},
   "outputs": [],
   "source": [
    "# Someone manipulating the internal state, break the checks\n",
    "account.balance = -100\n",
    "account"
   ]
  },
  {
   "cell_type": "markdown",
   "id": "2a71ff78",
   "metadata": {},
   "source": [
    "In Python, there is no strict way for protecting private fields, but two mechanisms can be used:\n",
    "- Use a single underscore as the first character in the name (a convention)\n",
    "- Use two single underscores as the first characters in the name (name mangling)"
   ]
  },
  {
   "cell_type": "code",
   "execution_count": null,
   "id": "71aa8ec8",
   "metadata": {},
   "outputs": [],
   "source": [
    "class BankAccount:\n",
    "    def __init__(self, initial_balance):\n",
    "        self.__balance = max(0, initial_balance)\n",
    "        \n",
    "    def __repr__(self):\n",
    "        return f\"BankAccount(balance={self.__balance})\"\n",
    "\n",
    "    def deposit(self, amount):\n",
    "        if amount > 0:\n",
    "            self.__balance += amount\n",
    "\n",
    "    def withdraw(self, amount):\n",
    "        if 0 < amount <= self.__balance:\n",
    "            self.__balance -= amount\n",
    "\n",
    "    def get_balance(self):\n",
    "        return self.__balance\n",
    "\n",
    "# Example usage:\n",
    "account = BankAccount(1000)\n",
    "account.balance = 12\n",
    "account"
   ]
  },
  {
   "cell_type": "markdown",
   "id": "3a20fc63",
   "metadata": {},
   "source": [
    "## Inheritance\n",
    "Inheritance allows new objects to take on the properties of existing objects. It's a way to form new classes using classes that have already been defined"
   ]
  },
  {
   "cell_type": "code",
   "execution_count": null,
   "id": "f22ff485",
   "metadata": {},
   "outputs": [],
   "source": [
    "class Animal:\n",
    "    def __init__(self, name):\n",
    "        self.name = name\n",
    "\n",
    "    def speak(self):\n",
    "        raise NotImplementedError(\"Subclasses must implement this method\")\n",
    "\n",
    "class Dog(Animal):\n",
    "    def speak(self):\n",
    "        return f\"{self.name} says Woof!\"\n",
    "\n",
    "class Cat(Animal):\n",
    "    def speak(self):\n",
    "        return f\"{self.name} says Meow!\"\n",
    "\n",
    "\n",
    "dog = Dog(\"Buddy\")\n",
    "cat = Cat(\"Whiskers\")\n",
    "print(dog.speak())  # Buddy says Woof!\n",
    "print(cat.speak())  # Whiskers says Meow!"
   ]
  },
  {
   "cell_type": "markdown",
   "id": "f7aa0890",
   "metadata": {},
   "source": [
    "## Polymorphism\n",
    "Polymorphism allows for flexibility and loose coupling so that code can call methods on objects without knowing exactly what kind of object it is. \n",
    "- It means that different object classes can be accessed through the same interface, each perhaps doing something different."
   ]
  },
  {
   "cell_type": "code",
   "execution_count": null,
   "id": "33537f47",
   "metadata": {},
   "outputs": [],
   "source": [
    "def animal_speak(animal):\n",
    "    print(animal.speak())\n",
    "\n",
    "animals = [Dog(\"Buddy\"), Cat(\"Whiskers\"), Dog(\"Fido\")]\n",
    "for animal in animals:\n",
    "    animal_speak(animal)  # Calls the speak method of each type of animal.\n"
   ]
  },
  {
   "cell_type": "markdown",
   "id": "d8e0672b",
   "metadata": {},
   "source": [
    "## Duck typing"
   ]
  },
  {
   "cell_type": "markdown",
   "id": "f1c0e43e",
   "metadata": {},
   "source": [
    "Duck typing is a concept in programming, particularly in dynamically typed languages like Python, where the type or class of an object is less important than the methods it defines.\n",
    "- Instead of checking whether an object is of a certain type, duck typing focuses on whether an object behaves like a certain type. \n",
    "- The term comes from the saying, \"If it looks like a duck, swims like a duck, and quacks like a duck, then it probably is a duck.\""
   ]
  },
  {
   "cell_type": "code",
   "execution_count": null,
   "id": "9590defb",
   "metadata": {},
   "outputs": [],
   "source": [
    "class Duck:\n",
    "    def quack(self):\n",
    "        print(\"Quack!\")\n",
    "\n",
    "class Person:\n",
    "    def quack(self):\n",
    "        print(\"I'm quacking like a duck!\")\n",
    "\n",
    "quackers = [\n",
    "    Duck(),\n",
    "    Person()\n",
    "]\n",
    "\n",
    "for q in quackers:\n",
    "    q.quack()"
   ]
  }
 ],
 "metadata": {
  "kernelspec": {
   "display_name": "torch_teach",
   "language": "python",
   "name": "python3"
  },
  "language_info": {
   "codemirror_mode": {
    "name": "ipython",
    "version": 3
   },
   "file_extension": ".py",
   "mimetype": "text/x-python",
   "name": "python",
   "nbconvert_exporter": "python",
   "pygments_lexer": "ipython3",
   "version": "3.10.14"
  }
 },
 "nbformat": 4,
 "nbformat_minor": 5
}
