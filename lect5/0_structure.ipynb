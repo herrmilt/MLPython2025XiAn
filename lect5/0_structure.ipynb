{
 "cells": [
  {
   "cell_type": "markdown",
   "metadata": {},
   "source": [
    "# Practice Lecture 4\n",
    "- Fast Quiz\n",
    "- [Training a network exercises](train_net_exercise.ipynb)\n",
    "\n",
    "# Lecture 5. Time series processing \n",
    "- [Introduction](https://www.kaggle.com/code/chikonzeroselemani/climate-forecasting)\n",
    "- [Predicting Energy Consumption with XGBoost](pred_energy.ipynb)\n",
    "- [Using a feedforward network](https://www.kaggle.com/code/herrmilt/climate-forecasting)\n",
    "\n",
    "## Recurrent Neural Networks\n",
    "- [Introduction to RNNs (PDF)](intro_rnn.pdf)\n",
    "- [Climate forecasting with vanilla RNN](https://www.kaggle.com/code/herrmilt/climate-forecasting-with-vanilla-rnn)\n",
    "- [Simples problems solved with LSTM](https://www.kaggle.com/code/herrmilt/lstm-in-pytorch)\n",
    "- [Mutivariate time serie with LSTM](https://www.kaggle.com/code/herrmilt/multivariate-time-serie)\n",
    "- [Classifying images with RNNs](https://www.kaggle.com/code/herrmilt/digits-rnn)\n",
    "\n"
   ]
  },
  {
   "cell_type": "markdown",
   "metadata": {},
   "source": []
  }
 ],
 "metadata": {
  "language_info": {
   "name": "python"
  }
 },
 "nbformat": 4,
 "nbformat_minor": 2
}
