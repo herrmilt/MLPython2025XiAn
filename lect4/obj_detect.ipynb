{
 "cells": [
  {
   "cell_type": "markdown",
   "metadata": {},
   "source": [
    "# Object detection"
   ]
  },
  {
   "cell_type": "code",
   "execution_count": null,
   "metadata": {},
   "outputs": [],
   "source": [
    "import numpy as np\n",
    "import torch\n",
    "import torch.nn as nn\n",
    "import torch.optim as optim\n",
    "import torch.nn.functional as F\n",
    "import torchvision.transforms as transforms\n",
    "from torch.utils.data import DataLoader, Dataset\n",
    "import matplotlib.pyplot as plt"
   ]
  },
  {
   "cell_type": "markdown",
   "metadata": {},
   "source": [
    "Like in other problems, the first step is to build the dataset."
   ]
  },
  {
   "cell_type": "code",
   "execution_count": null,
   "metadata": {},
   "outputs": [],
   "source": [
    "IMAGE_SIZE = 28\n",
    "\n",
    "class ShapesDataset(Dataset):\n",
    "    def __init__(self, num_samples, image_size=28):\n",
    "        self.num_samples = num_samples\n",
    "        self.image_size = image_size\n",
    "        self.data, self.labels = self.generate_data(num_samples, image_size)\n",
    "        \n",
    "    def generate_data(self, num_samples, image_size):\n",
    "        data = []\n",
    "        ys = []\n",
    "        for i in range(num_samples):\n",
    "            label = np.random.randint(0, 2)\n",
    "            image = np.zeros((image_size, image_size), dtype=np.float32)\n",
    "            if label == 0:\n",
    "                # Draw a square\n",
    "                w = np.random.randint(5, image_size // 2)\n",
    "                h = np.random.randint(5, image_size // 2)\n",
    "                top_left_x = np.random.randint(0, image_size - w)\n",
    "                top_left_y = np.random.randint(0, image_size - h)\n",
    "                image[top_left_y:top_left_y+h, top_left_x:top_left_x+w] = 1.0\n",
    "                out = (1, top_left_x + w / 2, top_left_y + h / 2, w, h, 0)\n",
    "            else:\n",
    "                # Draw a circle\n",
    "                radius = np.random.randint(5, image_size // 4)\n",
    "                center_x = np.random.randint(radius, image_size - radius)\n",
    "                center_y = np.random.randint(radius, image_size - radius)\n",
    "                y, x = np.ogrid[:image_size, :image_size]\n",
    "                mask = (x - center_x)**2 + (y - center_y)**2 <= radius**2\n",
    "                image[mask] = 1.0\n",
    "                out = (1, center_x, center_y, radius * 2, radius * 2, 1)\n",
    "            data.append(image)\n",
    "            ys.append(out)\n",
    "\n",
    "            if i % 2 == 0:\n",
    "                image = np.random.random((image_size, image_size))\n",
    "                out = np.random.random(6)\n",
    "                out[0] = 0\n",
    "                data.append(image)\n",
    "                ys.append(out)\n",
    "\n",
    "        ys = torch.tensor(ys) / torch.Tensor([1, image_size, image_size, image_size, image_size, 1])\n",
    "        return torch.tensor(data).unsqueeze(1).to(torch.float), ys.to(torch.float)\n",
    "    \n",
    "    def __len__(self):\n",
    "        return self.num_samples\n",
    "    \n",
    "    def __getitem__(self, idx):\n",
    "        return self.data[idx], self.labels[idx]\n",
    "\n",
    "# Create the dataset and dataloaders\n",
    "train_dataset = ShapesDataset(num_samples=1000, image_size=IMAGE_SIZE)\n",
    "test_dataset = ShapesDataset(num_samples=200, image_size=IMAGE_SIZE)\n",
    "train_loader = DataLoader(train_dataset, batch_size=10, shuffle=True)\n",
    "test_loader = DataLoader(test_dataset, batch_size=10, shuffle=False)\n",
    "\n",
    "train_dataset[0][0].shape, train_dataset[0][1].shape"
   ]
  },
  {
   "cell_type": "code",
   "execution_count": null,
   "metadata": {},
   "outputs": [],
   "source": [
    "import torchvision.utils as vutils\n",
    "\n",
    "def draw_rect(fig, rect, color=0.5):\n",
    "    x, y, w, h = (rect * IMAGE_SIZE).to(torch.int).numpy()\n",
    "    p1x, p1y = (max(0, x - w // 2 - 1), max(0, y - h // 2 - 1))\n",
    "    p2x, p2y = (min(IMAGE_SIZE-1, x + w // 2 + 1), min(IMAGE_SIZE-1, y + h // 2 + 1))\n",
    "    for i in range(p1x, p2x+1):\n",
    "        fig[0, p1y, i] = color\n",
    "        fig[0, p2y, i] = color\n",
    "    for i in range(p1y, p2y+1):\n",
    "        fig[0, i, p1x] = color\n",
    "        fig[0, i, p2x] = color\n",
    "\n",
    "figures, labels = train_dataset[:16]\n",
    "to_show = []\n",
    "for f, l in zip(figures, labels):\n",
    "    fig = f.clone()\n",
    "    if l[0] > 0.5:\n",
    "        draw_rect(fig, l[1:5], 1 if l[5] > 0.5 else 0.5)\n",
    "    to_show.append(fig)\n",
    "\n",
    "plt.figure(figsize=(8,8))\n",
    "plt.imshow(np.transpose(vutils.make_grid(to_show, padding=2, normalize=True, nrow=4)\n",
    "                        ,(1,2,0)))\n",
    "plt.show()"
   ]
  },
  {
   "cell_type": "markdown",
   "metadata": {},
   "source": [
    "Lets show how do the size of the tensors changes while moving throw a proposed architecture"
   ]
  },
  {
   "cell_type": "code",
   "execution_count": null,
   "metadata": {},
   "outputs": [],
   "source": [
    "h_count = 8\n",
    "\n",
    "x = next(iter(train_loader))[0]\n",
    "print(\"input\", x.shape)\n",
    "for m in [\n",
    "    nn.Conv2d(in_channels=1, out_channels=h_count, kernel_size=2, padding='same'),\n",
    "    nn.MaxPool2d(kernel_size=2),\n",
    "    nn.Conv2d(in_channels=h_count, out_channels=h_count*2, kernel_size=2, padding='same'),\n",
    "    nn.MaxPool2d(kernel_size=2),\n",
    "    nn.Conv2d(in_channels=h_count*2, out_channels=h_count*4, kernel_size=2, padding='same'),\n",
    "    nn.MaxPool2d(kernel_size=2),\n",
    "    nn.Flatten(start_dim=1),\n",
    "    nn.Linear(h_count*4*3*3, 7),\n",
    "]:\n",
    "    x = m(x)\n",
    "    print(f\"-- {m}\")\n",
    "    print(x.shape)"
   ]
  },
  {
   "cell_type": "code",
   "execution_count": null,
   "metadata": {},
   "outputs": [],
   "source": [
    "device = torch.device(\"cuda:0\" if torch.cuda.is_available() else \"cpu\")\n",
    "print(device)"
   ]
  },
  {
   "cell_type": "code",
   "execution_count": null,
   "metadata": {},
   "outputs": [],
   "source": [
    "# Create the model\n",
    "\n",
    "class ObjectDetector(nn.Module):\n",
    "    def __init__(self, h_count=8):\n",
    "        super(ObjectDetector, self).__init__()\n",
    "        self.conv1 = nn.Conv2d(in_channels=1, out_channels=h_count, kernel_size=2, padding='same')\n",
    "        self.conv2 = nn.Conv2d(in_channels=h_count, out_channels=h_count*2, kernel_size=2, padding='same')\n",
    "        self.conv3 = nn.Conv2d(in_channels=h_count*2, out_channels=h_count*4, kernel_size=2, padding='same')\n",
    "        self.pool = nn.MaxPool2d(kernel_size=2)\n",
    "        self.fc = nn.Linear(h_count*4*3*3, 7)\n",
    "\n",
    "    def forward(self, x):\n",
    "        x = self.pool(torch.relu(self.conv1(x)))\n",
    "        x = self.pool(torch.relu(self.conv2(x)))\n",
    "        x = self.pool(torch.relu(self.conv3(x)))\n",
    "        x = x.view(x.shape[0], -1)  # Flatten the tensor\n",
    "        x = self.fc(x)\n",
    "        return x\n",
    "    \n",
    "model = ObjectDetector().to(device)"
   ]
  },
  {
   "cell_type": "markdown",
   "metadata": {},
   "source": [
    "We need to define a proper loss"
   ]
  },
  {
   "cell_type": "code",
   "execution_count": null,
   "metadata": {},
   "outputs": [],
   "source": [
    "class CustomLoss(nn.Module):\n",
    "\n",
    "    def forward(self, predictions, targets):\n",
    "        pred_is_object = predictions[:, 0]\n",
    "        pred_box = predictions[:, 1:5]\n",
    "        pred_logits = predictions[:, 5:7]\n",
    "\n",
    "        target_is_object = targets[:, 0]\n",
    "        target_box = targets[:, 1:5]\n",
    "        target_class = targets[:, 5].to(torch.long)\n",
    "\n",
    "        loss = F.mse_loss(pred_is_object, target_is_object)\n",
    "        is_object = target_is_object == 1\n",
    "        \n",
    "        if torch.any(is_object):\n",
    "            loss += F.mse_loss(pred_box[is_object], target_box[is_object])\n",
    "            loss += F.cross_entropy(pred_logits[is_object], target_class[is_object])\n",
    "        return loss\n"
   ]
  },
  {
   "cell_type": "code",
   "execution_count": null,
   "metadata": {},
   "outputs": [],
   "source": [
    "# Loss associated to object\n",
    "pred = torch.tensor(([1.0, 4, 5, 0, 0, 0.0000, 1.000])).unsqueeze(0)\n",
    "target = torch.tensor   (([0.0, 1, 2, 0, 0, 1])).unsqueeze(0)\n",
    "CustomLoss()(pred, target).item(), 1"
   ]
  },
  {
   "cell_type": "code",
   "execution_count": null,
   "metadata": {},
   "outputs": [],
   "source": [
    "# Loss associated to box\n",
    "pred = torch.tensor(([1.0, 0, 0, 0, 0, 0, 100])).unsqueeze(0)\n",
    "target = torch.tensor((   [1.0, 1, 2, 0, 0, 1])).unsqueeze(0)\n",
    "\n",
    "CustomLoss()(pred, target).item(), (1**2 + 2**2)/4"
   ]
  },
  {
   "cell_type": "code",
   "execution_count": null,
   "metadata": {},
   "outputs": [],
   "source": [
    "# Loss associated to classification\n",
    "pred = torch.tensor(([1.0000, 0, 0, 0, 0, 1.2, 0.5])).unsqueeze(0)\n",
    "target = torch.tensor(([1.0000, 1, 2, 0, 0, 1])).unsqueeze(0)\n",
    "CustomLoss()(pred, target).item(), 1.25 - np.log(np.exp(0.5) / (np.exp(1.2) + np.exp(0.5)))"
   ]
  },
  {
   "cell_type": "code",
   "execution_count": null,
   "metadata": {},
   "outputs": [],
   "source": [
    "# larger batch\n",
    "\n",
    "pred = torch.tensor(([\n",
    "    [1.0, 4, 5, 0, 0, 0.0000, 1.000], \n",
    "    [1.0, 0, 0, 0, 0, 0, 100]\n",
    "    ]))\n",
    "target = torch.tensor(([\n",
    "    [0.0, 1, 2, 0, 0, 1], \n",
    "    [1.0, 1, 2, 0, 0, 1]\n",
    "    ]))\n",
    "CustomLoss()(pred, target).item(), (1**2/2) + 1.25"
   ]
  },
  {
   "cell_type": "code",
   "execution_count": null,
   "metadata": {},
   "outputs": [],
   "source": [
    "# Create the loss function and optimizer\n",
    "loss_fn = CustomLoss()\n",
    "optimizer = optim.Adam(model.parameters(), lr=0.01)\n",
    "\n",
    "# Training loop\n",
    "num_epochs = 30\n",
    "model.train()\n",
    "for epoch in range(num_epochs):\n",
    "    running_loss = 0.0\n",
    "    for images, labels in train_loader:\n",
    "        images = images.to(device)\n",
    "        labels = labels.to(device)\n",
    "        optimizer.zero_grad()\n",
    "        outputs = model(images)\n",
    "        loss = loss_fn(outputs, labels)\n",
    "        loss.backward()\n",
    "        optimizer.step()\n",
    "        running_loss += loss.item()\n",
    "    if epoch % (num_epochs // 10) == 0:\n",
    "        print(f\"Epoch [{epoch+1}/{num_epochs}], Loss: {running_loss / len(train_loader)}\")\n",
    "\n",
    "print(\"Training complete\")"
   ]
  },
  {
   "cell_type": "code",
   "execution_count": null,
   "metadata": {},
   "outputs": [],
   "source": [
    "outputs[:5], labels[:5]"
   ]
  },
  {
   "cell_type": "code",
   "execution_count": null,
   "metadata": {},
   "outputs": [],
   "source": [
    "# Evaluation loop\n",
    "model.eval()\n",
    "with torch.no_grad():\n",
    "    all_loss = []\n",
    "    for images, labels in test_loader:\n",
    "        images = images.to(device)\n",
    "        labels = labels.to(device)\n",
    "        outputs = model(images)\n",
    "        loss = loss_fn(outputs, labels)\n",
    "        all_loss.append(loss.item())\n",
    "\n",
    "print(f\"MSE: {np.mean(all_loss):.5f}\")"
   ]
  },
  {
   "cell_type": "code",
   "execution_count": null,
   "metadata": {},
   "outputs": [],
   "source": [
    "figures, _ = test_dataset[:16]\n",
    "figures = figures.to(device)\n",
    "to_show = []\n",
    "for f in figures:\n",
    "    fig = f.clone()\n",
    "    l = model(fig.unsqueeze(0))[0].cpu()\n",
    "    if l[0] > 0.5:\n",
    "        draw_rect(fig, l[1:5], 1 if l[6] > 0.5 else 0.5)\n",
    "    to_show.append(fig.cpu())\n",
    "\n",
    "plt.figure(figsize=(8,8))\n",
    "plt.imshow(np.transpose(vutils.make_grid(to_show, padding=2, normalize=True, nrow=4)\n",
    "                        ,(1,2,0)))\n",
    "plt.show()"
   ]
  },
  {
   "cell_type": "code",
   "execution_count": null,
   "metadata": {},
   "outputs": [],
   "source": []
  }
 ],
 "metadata": {
  "kernelspec": {
   "display_name": "torch_teach",
   "language": "python",
   "name": "python3"
  },
  "language_info": {
   "codemirror_mode": {
    "name": "ipython",
    "version": 3
   },
   "file_extension": ".py",
   "mimetype": "text/x-python",
   "name": "python",
   "nbconvert_exporter": "python",
   "pygments_lexer": "ipython3",
   "version": "3.10.14"
  }
 },
 "nbformat": 4,
 "nbformat_minor": 2
}
