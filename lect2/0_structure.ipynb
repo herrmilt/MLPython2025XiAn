{
 "cells": [
  {
   "cell_type": "markdown",
   "metadata": {},
   "source": [
    "# Lecture 6: Machine Learning Fundamentals\n",
    "- Theory:\n",
    "    - [Introduction to Machine Learning](basic_terms.ipynb)\n",
    "    - [Introduction to Gradient Descent](introd_grad_desc.ipynb)\n",
    "    - Calculating gradients. Backpropagation\n",
    "    - [Introduction to Neural Networks](intro_nn.ipynb)\n",
    "    - [Torch Tensors](torch_tensors.ipynb)\n",
    "- In practice:\n",
    "    - Regression: https://www.kaggle.com/code/herrmilt/salary-dataset-gradient-descent\n",
    "    - Classification: https://www.kaggle.com/code/herrmilt/possum-classification\n",
    "    - Multiple classes: https://www.kaggle.com/code/herrmilt/crop-recomendation\n",
    "    - One-hot encoding: https://www.kaggle.com/code/herrmilt/it-is-raining-cats-classif"
   ]
  },
  {
   "cell_type": "markdown",
   "metadata": {},
   "source": []
  }
 ],
 "metadata": {
  "language_info": {
   "name": "python"
  }
 },
 "nbformat": 4,
 "nbformat_minor": 2
}
