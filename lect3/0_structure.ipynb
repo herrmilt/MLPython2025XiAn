{
 "cells": [
  {
   "cell_type": "markdown",
   "metadata": {},
   "source": [
    "# Practice Lecture 3\n",
    "- Fast Quiz\n",
    "- [Practical tensor exercise](https://www.kaggle.com/code/herrmilt/torch-exercises)\n",
    "- Homework exposition\n",
    "\n",
    "# Lecture 4. Convolutional Neural Networks\n",
    "- Introduction to CNN (Video)\n",
    "- [Processing images with a MLP network](https://www.kaggle.com/code/herrmilt/catsvsdogsclassif)\n",
    "- [Convolutional neural networks](https://www.kaggle.com/code/herrmilt/mnist-classification)\n",
    "- [Pretrained networks and data augmentation](https://www.kaggle.com/code/herrmilt/celebrity-image-classif)\n"
   ]
  },
  {
   "cell_type": "markdown",
   "metadata": {},
   "source": []
  }
 ],
 "metadata": {
  "kernelspec": {
   "display_name": "torch_teach",
   "language": "python",
   "name": "python3"
  },
  "language_info": {
   "name": "python",
   "version": "3.10.14"
  }
 },
 "nbformat": 4,
 "nbformat_minor": 2
}
