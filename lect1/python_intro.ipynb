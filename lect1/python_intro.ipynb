{
 "cells": [
  {
   "cell_type": "markdown",
   "metadata": {},
   "source": [
    "(From Wikipedia)\n",
    "\n",
    "# Technical specs\n",
    "Paradigm\tMulti-paradigm: object-oriented,[1] procedural (imperative), functional, structured, reflective\n",
    "\n",
    "Designed by\tGuido van Rossum\n",
    "\n",
    "Developer\tPython Software Foundation\n",
    "\n",
    "First appeared\t20 February 1991; 33 years ago\n",
    "\n",
    "Stable release\t3.12.4 \n",
    "\n",
    "Typing discipline\tduck, dynamic, strong; optional type annotations (since 3.5, but those hints are ignored, except with unofficial tools)\n",
    "\n",
    "# Introduction\n",
    "\n",
    "Python is a high-level, general-purpose programming language. Its design philosophy emphasizes code readability with the use of significant indentation.\n",
    "\n",
    "Python is dynamically typed and garbage-collected. It supports multiple programming paradigms, including structured (particularly procedural), object-oriented and functional programming. It is often described as a \"batteries included\" language due to its comprehensive standard library.\n",
    "\n",
    "Guido van Rossum began working on Python in the late 1980s as a successor to the ABC programming language and first released it in 1991 as Python 0.9.0.\n",
    "- Python 2.0 was released in 2000. Python 2.7.18, released in 2020, was the last release of Python 2.\n",
    "- Python 3.0, released in 2008, was a major revision not completely backward-compatible with earlier versions. "
   ]
  },
  {
   "cell_type": "markdown",
   "metadata": {},
   "source": [
    "# Advantages of programming in Python (according to ChatGPT)\n",
    "\n",
    "1. Readability and Simplicity\n",
    "\n",
    "    - Clear Syntax: Python's syntax is designed to be readable and straightforward, allowing developers to write clear and concise code. This readability makes it easier to understand and maintain code.\n",
    "    - Ease of Learning: Python is often recommended for beginners because of its simplicity and low learning curve, allowing new programmers to get started quickly.\n",
    "\n",
    "2. Versatility and Flexibility\n",
    "\n",
    "    - Wide Range of Applications: Python is a versatile language used in various domains, including web development, data analysis, artificial intelligence, scientific computing, automation, and more.\n",
    "    - Cross-Platform Compatibility: Python runs on multiple platforms, including Windows, macOS, and Linux, making it a flexible choice for development.\n",
    "\n",
    "3. Extensive Libraries and Frameworks\n",
    "\n",
    "    - Rich Standard Library: Python's standard library includes modules and packages for virtually every need, from file I/O and system calls to web and internet protocols.\n",
    "    - Third-Party Libraries: The Python Package Index (PyPI) hosts thousands of third-party libraries and frameworks, such as NumPy, pandas, TensorFlow, Django, Flask, and more, which extend Python's capabilities and streamline development processes.\n",
    "\n",
    "4. Strong Community Support\n",
    "\n",
    "    - Active Community: Python has a large and active community of developers who contribute to its development, create libraries and tools, and provide support through forums, tutorials, and documentation.\n",
    "    - Abundant Resources: There are countless resources available for learning and troubleshooting Python, including official documentation, online courses, books, and user groups.\n",
    "\n",
    "5. Integration Capabilities\n",
    "\n",
    "    - Interoperability: Python can easily integrate with other languages and technologies. It can interface with C/C++, Java, and .NET via various integration tools and libraries.\n",
    "    A- PIs and Web Services: Python is commonly used to build APIs and web services, and it can efficiently interact with databases and other web technologies, making it a key tool for modern software development and data-driven applications."
   ]
  },
  {
   "cell_type": "markdown",
   "metadata": {},
   "source": []
  }
 ],
 "metadata": {
  "kernelspec": {
   "display_name": "torch_teach",
   "language": "python",
   "name": "python3"
  },
  "language_info": {
   "name": "python",
   "version": "3.10.14"
  }
 },
 "nbformat": 4,
 "nbformat_minor": 2
}
